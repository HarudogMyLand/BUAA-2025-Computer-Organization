{
 "cells": [
  {
   "metadata": {},
   "cell_type": "markdown",
   "source": [
    "# P3 Automatic test!\n",
    "定义路径，导入相关库"
   ],
   "id": "ee7c68d2d3b6e455"
  },
  {
   "metadata": {
    "collapsed": true,
    "ExecuteTime": {
     "end_time": "2025-10-30T03:08:36.767422Z",
     "start_time": "2025-10-30T03:08:36.759055Z"
    }
   },
   "cell_type": "code",
   "source": [
    "import re\n",
    "import random\n",
    "import os\n",
    "from time import sleep\n",
    "import subprocess\n",
    "\n",
    "MARS_PATH = r\"C:\\Users\\Harudog\\Desktop\\Use\\Working Area\\Tools\\Co\\Mars4_5.jar\"\n",
    "CPU      = r\"C:\\Users\\Harudog\\Desktop\\Use\\Working Area\\Src Code\\coCode\\2025\\coHw\\p3\\cpu_single.circ\"\n",
    "PARTNER  = r\"C:\\Users\\Harudog\\Desktop\\Use\\Working Area\\Src Code\\coCode\\2025\\coHw\\p3\\cpu_single.circ\"\n",
    "LOGISIM  = r\"C:\\Users\\Harudog\\Desktop\\Use\\Working Area\\Tools\\Co\\logisim-win-2.7.1.exe\"\n",
    "TXT      = \"command.txt\"\n",
    "RESULT   = \"CPU_RESULT.txt\"\n",
    "RESULT_PARTNER   = \"CPU_RESULT_P.txt\"\n",
    "\n",
    "spinner_running = False"
   ],
   "id": "initial_id",
   "outputs": [],
   "execution_count": 17
  },
  {
   "metadata": {},
   "cell_type": "markdown",
   "source": "生成随机汇编指令",
   "id": "75a3c8f5c0f7d23a"
  },
  {
   "metadata": {
    "ExecuteTime": {
     "end_time": "2025-10-30T03:08:36.789245Z",
     "start_time": "2025-10-30T03:08:36.782072Z"
    }
   },
   "cell_type": "code",
   "source": [
    "\"\"\"\n",
    "    Generate Assemble with:\n",
    "    ori, lui,\n",
    "    add, sub, lw, sw,\n",
    "    beq\n",
    "    And dump them into Hexadecimal txt file.\n",
    "\"\"\"\n",
    "\n",
    "# Reg Index, Just for better look\n",
    "regs = [f\"{i}\" for i in range(1, 32)]\n",
    "\n",
    "R_type = ['add', 'sub']\n",
    "I_type = ['ori', 'lui', 'lw', 'sw']\n",
    "J_type = ['j', 'jal', 'jr']\n",
    "\n",
    "def r_type(rs, rt, rd):\n",
    "    op = random.choice(R_type)\n",
    "    return f\"{op} ${rd}, ${rs}, ${rt}\"\n",
    "\n",
    "def i_type(rs, rt, imm):\n",
    "    op = random.choice(I_type)\n",
    "    if op == 'beq':\n",
    "        return f\"{op} ${rs}, ${rt}, {imm}\"\n",
    "    elif op in ['lw', 'sw']:\n",
    "        return f\"{op} ${rt}, {imm}(${rs})\"  # lw $rt, offset($rs)\n",
    "    else:\n",
    "        return f\"{op} ${rt}, {imm}\"\n",
    "\n",
    "# def J(imm, random_code):\n",
    "# no more j instruction for hw...\n",
    "\n",
    "def generate_random_code(num_instructions=10):\n",
    "    \"\"\"\n",
    "        Generate random code(I don't think 10 ins is enough but just use it?)\n",
    "    \"\"\"\n",
    "    code = []\n",
    "    for _ in range(num_instructions):\n",
    "        if random.random() < 0.4:\n",
    "            rs, rt, rd = random.sample(regs, 3)\n",
    "            code.append(r_type(rs, rt, rd))\n",
    "        else:\n",
    "            rs = random.choice(regs)\n",
    "            rt = random.choice(regs)\n",
    "            if random.choice(I_type) == 'beq':\n",
    "                imm = str(random.randint(-128, 127) * 4)\n",
    "            else:\n",
    "                imm = str(random.randint(0, 65535)) if random.random() < 0.8 else hex(random.randint(0, 65535))\n",
    "            code.append(i_type(rs, rt, imm))\n",
    "    return \"\\n\".join(code)\n"
   ],
   "id": "8e917c18c05ca27e",
   "outputs": [],
   "execution_count": 18
  },
  {
   "metadata": {},
   "cell_type": "markdown",
   "source": "后续写入辅助函数",
   "id": "82596a55e47e9746"
  },
  {
   "metadata": {
    "ExecuteTime": {
     "end_time": "2025-10-30T03:08:36.799832Z",
     "start_time": "2025-10-30T03:08:36.792323Z"
    }
   },
   "cell_type": "code",
   "source": [
    "def write_to_file(filename=\"AssemblyP3.asm\"):\n",
    "    # print(\"Generating Assembly!\")\n",
    "    code = generate_random_code(100)\n",
    "    with open(filename, 'w') as f:\n",
    "        sleep(0.5)\n",
    "        print(\"File Open!\")\n",
    "        f.write(code)\n",
    "        sleep(0.5)\n",
    "    # print(f\"Code Generated in {filename} Successfully!\")\n",
    "\n",
    "def inject(circ, code):\n",
    "    txt = open(circ, encoding=\"utf-8\").read()\n",
    "    txt = re.sub(r'(addr/data: 10 32\\n).*?(</a>)',\n",
    "                 r'\\1' + code + r'\\n\\2',\n",
    "                 txt, count=1, flags=re.S)\n",
    "    open(circ, \"w\", encoding=\"utf-8\").write(txt)\n",
    "\n",
    "# def spinner(spinner_running):\n",
    "#     \"\"\"Waiting and Spinning\"\"\"\n",
    "#     spin_chars = ['\\\\', '|', '/', '-']\n",
    "#     i = 0\n",
    "#     while spinner_running:\n",
    "#         sys.stdout.write(f'\\rRunning... {spin_chars[i]}')\n",
    "#         sys.stdout.flush()\n",
    "#         i = (i + 1) % len(spin_chars)\n",
    "#         time.sleep(0.1)\n",
    "#     sys.stdout.write('\\r' + ' ' * 20 + '\\r')\n",
    "#     sys.stdout.flush()\n",
    "\n",
    "def cmd_running(result):\n",
    "    if result == 0 and os.path.exists(\"command.txt\"):\n",
    "        print(\"Well Done！command.txt Generated\")\n",
    "        with open(\"command.txt\", 'r') as f:\n",
    "            content = f.read().strip()\n",
    "        with open(\"command.txt\", 'w') as f:\n",
    "            f.write(\"v2.0 raw\\n\")\n",
    "            f.write(content + \"\\n\")\n",
    "    else:\n",
    "        print(\"WTF, Errors happened!!!\")"
   ],
   "id": "4170bb26d118f057",
   "outputs": [],
   "execution_count": 19
  },
  {
   "metadata": {},
   "cell_type": "markdown",
   "source": "生成机器码",
   "id": "7697790cb8e4e7b5"
  },
  {
   "metadata": {
    "ExecuteTime": {
     "end_time": "2025-10-30T03:08:36.809184Z",
     "start_time": "2025-10-30T03:08:36.803064Z"
    }
   },
   "cell_type": "code",
   "source": [
    "def auto_mars_code():\n",
    "    filename=\"AssemblyP3.asm\"\n",
    "\n",
    "    # warning_check = input(\"Attention! Please check your PATH!!! Input OK to continue:\")\n",
    "    # if warning_check.lower() == \"ok\":\n",
    "    #     print(\"OK! Your PATH could be right...\")\n",
    "    # else:\n",
    "    #     print(\"Error! Your PATH could be wrong...\")\n",
    "    # write_to_file(filename)\n",
    "\n",
    "    cmd = (\n",
    "        f'java -jar \"{MARS_PATH}\" '\n",
    "        f'\"{filename}\" '\n",
    "        f'p nc mc CompactDataAtZero a dump .text HexText command.txt'\n",
    "    )\n",
    "\n",
    "    # print(\"Running MARS...\")\n",
    "    # print(cmd)\n",
    "    sleep(0.5)\n",
    "    # print(\"-\" * 60)\n",
    "\n",
    "    result = os.system(cmd)\n",
    "    cmd_running(result)"
   ],
   "id": "3294e68823be2b15",
   "outputs": [],
   "execution_count": 20
  },
  {
   "metadata": {},
   "cell_type": "markdown",
   "source": "开始生产`log`文件",
   "id": "d1703831d9420b4c"
  },
  {
   "metadata": {
    "ExecuteTime": {
     "end_time": "2025-10-30T03:08:36.818136Z",
     "start_time": "2025-10-30T03:08:36.809184Z"
    }
   },
   "cell_type": "code",
   "source": [
    "def auto_log():\n",
    "    code = open(TXT, encoding=\"utf-8\").read().strip()\n",
    "\n",
    "    inject(CPU, code)\n",
    "    inject(PARTNER, code)\n",
    "\n",
    "    process = None\n",
    "\n",
    "    confirm = \"y\"\n",
    "    if confirm.strip().lower() == \"y\" or confirm.strip().lower() == \"yes\":\n",
    "        try:\n",
    "            # print(\"Running Logisim ...\")\n",
    "\n",
    "            process = subprocess.Popen([\n",
    "                \"java\", \"-jar\", LOGISIM,\n",
    "                CPU, \"-tty\", \"table\"\n",
    "            ], stdout=open(RESULT, \"w\", encoding=\"utf-8\"))\n",
    "\n",
    "            process.wait()\n",
    "\n",
    "            process = None\n",
    "\n",
    "            # print(f\"\\nWell Done! Finished writing {RESULT}\")\n",
    "\n",
    "            process = subprocess.Popen([\n",
    "                \"java\", \"-jar\", LOGISIM,\n",
    "                PARTNER, \"-tty\", \"table\"\n",
    "            ], stdout=open(RESULT_PARTNER, \"w\", encoding=\"utf-8\"))\n",
    "\n",
    "            process.wait()\n",
    "\n",
    "\n",
    "            # print(f\"\\nWell Done! Finished writing {RESULT_PARTNER}\")\n",
    "\n",
    "        except KeyboardInterrupt:\n",
    "            print(\"\\nInterrupting...\")\n",
    "            if process:\n",
    "                process.terminate()\n",
    "                try:\n",
    "                    process.wait(timeout=5)\n",
    "                except subprocess.TimeoutExpired:\n",
    "                    process.kill()\n",
    "            print(\"Ok, done interrupted\")\n",
    "    else:\n",
    "        print(\"ok, we got it.\")"
   ],
   "id": "126fb7e41dba47bf",
   "outputs": [],
   "execution_count": 21
  },
  {
   "metadata": {},
   "cell_type": "markdown",
   "source": "比较`log`文件是否相同",
   "id": "acd370d28b74a4f9"
  },
  {
   "metadata": {
    "ExecuteTime": {
     "end_time": "2025-10-30T03:08:36.827146Z",
     "start_time": "2025-10-30T03:08:36.820611Z"
    }
   },
   "cell_type": "code",
   "source": [
    "import filecmp\n",
    "def simple_cmp(file1, file2):\n",
    "    if filecmp.cmp(file1, file2, shallow=False):\n",
    "        # print(True)\n",
    "        return True\n",
    "    else:\n",
    "        # print(False)\n",
    "        return False\n",
    "# simple_cmp(RESULT, RESULT_PARTNER)"
   ],
   "id": "1ad960139086f241",
   "outputs": [],
   "execution_count": 22
  },
  {
   "metadata": {},
   "cell_type": "markdown",
   "source": "Final test:",
   "id": "854c244d70feec96"
  },
  {
   "metadata": {
    "ExecuteTime": {
     "end_time": "2025-10-30T03:16:13.266261Z",
     "start_time": "2025-10-30T03:15:46.486059Z"
    }
   },
   "cell_type": "code",
   "source": [
    "def final_function():\n",
    "    auto_mars_code()\n",
    "    auto_log()\n",
    "    return simple_cmp(RESULT, RESULT_PARTNER)\n",
    "\n",
    "def happy_test(num = 10):\n",
    "    for i in range(num):\n",
    "        try:\n",
    "            print(f\"Test {i}:\")\n",
    "            print(\"Start!\".center(20, \"-\"))\n",
    "            auto_mars_code()\n",
    "            if final_function():\n",
    "                print(\"Accepted:)\")\n",
    "            else:\n",
    "                print(\"Wrong Answer:(\")\n",
    "            print(\"End!\".center(20, \"-\"))\n",
    "        except KeyboardInterrupt:\n",
    "            print(\"\\nInterrupting...\")\n",
    "            print(\"Finished\".center(20, \"-\"))\n",
    "            print(\"You stopped the program, but why?\")\n",
    "            break\n",
    "\n",
    "check_path = input(\"The path should be absolute path of your circ code, mars and logisim.\\n You sure you checked them?(input y/n)\")\n",
    "if check_path.lower() == \"y\" or check_path.lower() == \"yes\":\n",
    "    num = int(input(\"How many tests?\"))\n",
    "    while num <= 0 or num > 100:\n",
    "        num = int(input(\"Not a good number, How many test?\"))\n",
    "    happy_test(num)\n",
    "else:\n",
    "    print(\"ok, we got it, please wait...\")\n",
    "    for i in range(10):\n",
    "        sleep(0.5)\n",
    "        print(\".\", end='')\n",
    "    print(\"Please input your absolute path of your circ code, mars and logisim:\")\n",
    "    MARS_PATH   = input(\"Input your MARS path.\")\n",
    "    CPU         = input(\"Input your CPU circ path.\")\n",
    "    PARTNER     = input(\"Input your PARTNER circ path.\")\n",
    "    LOGISIM     = input(\"Input your LOGISIM circ path.\")\n",
    "    try:\n",
    "        num = int(input(\"How many test?\"))\n",
    "        while num <= 0 or num > 100:\n",
    "            num = int(input(\"Not a good number, How many test?\"))\n",
    "        happy_test(num)\n",
    "    except:\n",
    "        print(\"Something went wrong. Maybe you input a wrong path? Joker.\")\n",
    "\n"
   ],
   "id": "ae391f5f63833da2",
   "outputs": [
    {
     "name": "stdout",
     "output_type": "stream",
     "text": [
      "Test 0:\n",
      "-------Start!-------\n",
      "Well Done！command.txt Generated\n",
      "Well Done！command.txt Generated\n",
      "Accepted:)\n",
      "--------End!--------\n",
      "Test 1:\n",
      "-------Start!-------\n",
      "Well Done！command.txt Generated\n",
      "Well Done！command.txt Generated\n",
      "Accepted:)\n",
      "--------End!--------\n"
     ]
    }
   ],
   "execution_count": 25
  },
  {
   "metadata": {},
   "cell_type": "markdown",
   "source": [
    "## Reference\n",
    "- [单周期CPU自动化检测](https://foreveryolo.top/posts/6588/index.html)\n",
    "- [Command-line Verification:Logisim Tutorial](https://foreveryolo.top/posts/6588/index.html)"
   ],
   "id": "40b3b2de6db728e3"
  }
 ],
 "metadata": {
  "kernelspec": {
   "display_name": "Python 3",
   "language": "python",
   "name": "python3"
  },
  "language_info": {
   "codemirror_mode": {
    "name": "ipython",
    "version": 2
   },
   "file_extension": ".py",
   "mimetype": "text/x-python",
   "name": "python",
   "nbconvert_exporter": "python",
   "pygments_lexer": "ipython2",
   "version": "2.7.6"
  }
 },
 "nbformat": 4,
 "nbformat_minor": 5
}
